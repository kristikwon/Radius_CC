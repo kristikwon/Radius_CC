{
 "cells": [
  {
   "cell_type": "code",
   "execution_count": 1,
   "metadata": {
    "collapsed": true
   },
   "outputs": [],
   "source": [
    "# Import data\n",
    "\n",
    "import json\n",
    "import collections\n",
    "\n",
    "with open('data_analysis.json', encoding='utf-8') as data_file:\n",
    "    data = json.loads(data_file.read()) "
   ]
  },
  {
   "cell_type": "code",
   "execution_count": 2,
   "metadata": {
    "collapsed": false
   },
   "outputs": [
    {
     "data": {
      "text/plain": [
       "[{'address': '10085 SCRIPPS RANCH CT STE A',\n",
       "  'category_code': '44420000',\n",
       "  'city': 'SAN DIEGO',\n",
       "  'headcount': '50 to 99',\n",
       "  'name': 'AMD CUSTOM',\n",
       "  'phone': '3123628000',\n",
       "  'revenue': '$20 to 50 Million',\n",
       "  'state': 'CA',\n",
       "  'time_in_business': '10+ years',\n",
       "  'zip': '92131'}]"
      ]
     },
     "execution_count": 2,
     "metadata": {},
     "output_type": "execute_result"
    }
   ],
   "source": [
    "# data is list of dictionaries\n",
    "data[0:1]"
   ]
  },
  {
   "cell_type": "code",
   "execution_count": 3,
   "metadata": {
    "collapsed": false
   },
   "outputs": [
    {
     "data": {
      "text/plain": [
       "1000000"
      ]
     },
     "execution_count": 3,
     "metadata": {},
     "output_type": "execute_result"
    }
   ],
   "source": [
    "# Total number of businesses\n",
    "len(data)"
   ]
  },
  {
   "cell_type": "code",
   "execution_count": null,
   "metadata": {
    "collapsed": true
   },
   "outputs": [],
   "source": []
  },
  {
   "cell_type": "markdown",
   "metadata": {},
   "source": [
    "# Part I: Fill Rate"
   ]
  },
  {
   "cell_type": "code",
   "execution_count": 4,
   "metadata": {
    "collapsed": false
   },
   "outputs": [],
   "source": [
    "# identify number of records with a value\n",
    "def fill_rate(data, key):\n",
    "    return len([i for i in data if isinstance(i[key],str)])"
   ]
  },
  {
   "cell_type": "code",
   "execution_count": null,
   "metadata": {
    "collapsed": true
   },
   "outputs": [],
   "source": []
  },
  {
   "cell_type": "markdown",
   "metadata": {},
   "source": [
    "# Part II: True valued fill rate"
   ]
  },
  {
   "cell_type": "code",
   "execution_count": 5,
   "metadata": {
    "collapsed": false
   },
   "outputs": [],
   "source": [
    "# Fill_Rate_Test: try to first identify patterns in each field\n",
    "class Fill_Rate_Test(object):\n",
    "    \n",
    "    def __init__(self, data, key):\n",
    "        self.data = data\n",
    "        self.key = key\n",
    "        \n",
    "    # tease out \"bad\" data by looking at string length: address, city, name, phone, state, zip, category_code\n",
    "    def len_counter(self):\n",
    "        return collections.Counter([len(i[self.key]) for i in self.data if isinstance(i[self.key],str)])\n",
    "    \n",
    "    # tease out \"bad\" data by looking at categorical values: headcount, revenue, time_in_business\n",
    "    def cat_counter(self):\n",
    "        return collections.Counter([j[self.key] for j in self.data if isinstance(j[self.key],str)])"
   ]
  },
  {
   "cell_type": "code",
   "execution_count": 6,
   "metadata": {
    "collapsed": true
   },
   "outputs": [],
   "source": [
    "# Get actual values instead of count so that we can use this output to check if a field is unique\n",
    "def relevant_data(data, key, len_criteria, cat_criteria):\n",
    "    return [i[key] for i in data if isinstance(i[key],str) and len(i[key])>len_criteria and i[key] not in cat_criteria]\n"
   ]
  },
  {
   "cell_type": "markdown",
   "metadata": {},
   "source": [
    "** Field 1: Address **  \n",
    "- address with length<=4 is \"bad\""
   ]
  },
  {
   "cell_type": "code",
   "execution_count": 7,
   "metadata": {
    "collapsed": false
   },
   "outputs": [
    {
     "data": {
      "text/plain": [
       "Counter({0: 16,\n",
       "         1: 31,\n",
       "         3: 1,\n",
       "         4: 28,\n",
       "         5: 1,\n",
       "         6: 15,\n",
       "         7: 90,\n",
       "         8: 920,\n",
       "         9: 2911,\n",
       "         10: 10647,\n",
       "         11: 28499,\n",
       "         12: 54124,\n",
       "         13: 81818,\n",
       "         14: 91887,\n",
       "         15: 95683,\n",
       "         16: 93535,\n",
       "         17: 87245,\n",
       "         18: 77223,\n",
       "         19: 65610,\n",
       "         20: 55795,\n",
       "         21: 47087,\n",
       "         22: 40446,\n",
       "         23: 35464,\n",
       "         24: 30901,\n",
       "         25: 26699,\n",
       "         26: 20438,\n",
       "         27: 16363,\n",
       "         28: 11036,\n",
       "         29: 8103,\n",
       "         30: 5639,\n",
       "         31: 3993,\n",
       "         32: 2864,\n",
       "         33: 1848,\n",
       "         34: 1010,\n",
       "         35: 714,\n",
       "         36: 511,\n",
       "         37: 265,\n",
       "         38: 237,\n",
       "         39: 101,\n",
       "         40: 76,\n",
       "         41: 33,\n",
       "         42: 24,\n",
       "         43: 7,\n",
       "         44: 16,\n",
       "         45: 6,\n",
       "         46: 3,\n",
       "         47: 4,\n",
       "         48: 3,\n",
       "         49: 2,\n",
       "         50: 1})"
      ]
     },
     "execution_count": 7,
     "metadata": {},
     "output_type": "execute_result"
    }
   ],
   "source": [
    "field_address = Fill_Rate_Test(data,'address')\n",
    "field_address.len_counter()"
   ]
  },
  {
   "cell_type": "code",
   "execution_count": 8,
   "metadata": {
    "collapsed": false
   },
   "outputs": [
    {
     "data": {
      "text/plain": [
       "Counter({'1 BYU': 1})"
      ]
     },
     "execution_count": 8,
     "metadata": {},
     "output_type": "execute_result"
    }
   ],
   "source": [
    "collections.Counter([d['address'] for d in data if isinstance(d['address'],str) and len(d['address'])==5])"
   ]
  },
  {
   "cell_type": "code",
   "execution_count": null,
   "metadata": {
    "collapsed": true
   },
   "outputs": [],
   "source": []
  },
  {
   "cell_type": "markdown",
   "metadata": {},
   "source": [
    "** Field 2: city **  \n",
    "- city with length<1 is bad\n",
    "- For length=1, we also need to exclude \" \", \"0\"\n",
    "- For length=4, ok as long as not \"none\" or \"null\""
   ]
  },
  {
   "cell_type": "code",
   "execution_count": 9,
   "metadata": {
    "collapsed": false
   },
   "outputs": [
    {
     "data": {
      "text/plain": [
       "Counter({0: 19,\n",
       "         1: 24,\n",
       "         3: 838,\n",
       "         4: 17931,\n",
       "         5: 50799,\n",
       "         6: 121942,\n",
       "         7: 156680,\n",
       "         8: 137889,\n",
       "         9: 130751,\n",
       "         10: 128597,\n",
       "         11: 92861,\n",
       "         12: 59314,\n",
       "         13: 41943,\n",
       "         14: 21107,\n",
       "         15: 14508,\n",
       "         16: 14456,\n",
       "         17: 4985,\n",
       "         18: 2532,\n",
       "         19: 1362,\n",
       "         20: 796,\n",
       "         21: 193,\n",
       "         22: 285,\n",
       "         23: 35,\n",
       "         24: 3,\n",
       "         25: 118,\n",
       "         26: 1})"
      ]
     },
     "execution_count": 9,
     "metadata": {},
     "output_type": "execute_result"
    }
   ],
   "source": [
    "field_city = Fill_Rate_Test(data,'city')\n",
    "field_city.len_counter()"
   ]
  },
  {
   "cell_type": "code",
   "execution_count": 10,
   "metadata": {
    "collapsed": false
   },
   "outputs": [
    {
     "data": {
      "text/plain": [
       "Counter({' ': 11, '0': 13})"
      ]
     },
     "execution_count": 10,
     "metadata": {},
     "output_type": "execute_result"
    }
   ],
   "source": [
    "collections.Counter([d['city'] for d in data if isinstance(d['city'],str) and len(d['city'])==1])"
   ]
  },
  {
   "cell_type": "code",
   "execution_count": null,
   "metadata": {
    "collapsed": true
   },
   "outputs": [],
   "source": []
  },
  {
   "cell_type": "markdown",
   "metadata": {},
   "source": [
    "** Field 3: name**  \n",
    "- length<1 is bad\n",
    "- exclude ' ', \"0\", \"none\" and \"null\""
   ]
  },
  {
   "cell_type": "code",
   "execution_count": 11,
   "metadata": {
    "collapsed": false
   },
   "outputs": [
    {
     "data": {
      "text/plain": [
       "Counter({0: 11,\n",
       "         1: 33,\n",
       "         2: 88,\n",
       "         3: 1654,\n",
       "         4: 3212,\n",
       "         5: 2621,\n",
       "         6: 4252,\n",
       "         7: 7127,\n",
       "         8: 9289,\n",
       "         9: 13474,\n",
       "         10: 16168,\n",
       "         11: 20733,\n",
       "         12: 25207,\n",
       "         13: 30792,\n",
       "         14: 35277,\n",
       "         15: 40633,\n",
       "         16: 43833,\n",
       "         17: 48762,\n",
       "         18: 50784,\n",
       "         19: 52106,\n",
       "         20: 53232,\n",
       "         21: 50382,\n",
       "         22: 49344,\n",
       "         23: 47909,\n",
       "         24: 45073,\n",
       "         25: 43020,\n",
       "         26: 40574,\n",
       "         27: 38125,\n",
       "         28: 35398,\n",
       "         29: 32120,\n",
       "         30: 29585,\n",
       "         31: 18972,\n",
       "         32: 16763,\n",
       "         33: 14234,\n",
       "         34: 11878,\n",
       "         35: 10341,\n",
       "         36: 8167,\n",
       "         37: 7197,\n",
       "         38: 6067,\n",
       "         39: 5431,\n",
       "         40: 5244,\n",
       "         41: 4246,\n",
       "         42: 3510,\n",
       "         43: 2908,\n",
       "         44: 2360,\n",
       "         45: 1999,\n",
       "         46: 1655,\n",
       "         47: 1374,\n",
       "         48: 1234,\n",
       "         49: 1334,\n",
       "         50: 2169,\n",
       "         51: 343,\n",
       "         52: 285,\n",
       "         53: 232,\n",
       "         54: 194,\n",
       "         55: 177,\n",
       "         56: 121,\n",
       "         57: 142,\n",
       "         58: 100,\n",
       "         59: 73,\n",
       "         60: 86,\n",
       "         61: 61,\n",
       "         62: 42,\n",
       "         63: 41,\n",
       "         64: 44,\n",
       "         65: 20,\n",
       "         66: 18,\n",
       "         67: 9,\n",
       "         68: 9,\n",
       "         69: 10,\n",
       "         70: 10,\n",
       "         71: 12,\n",
       "         72: 7,\n",
       "         73: 6,\n",
       "         74: 6,\n",
       "         75: 8,\n",
       "         76: 3,\n",
       "         77: 3,\n",
       "         78: 2,\n",
       "         79: 2,\n",
       "         80: 1,\n",
       "         81: 1,\n",
       "         84: 1,\n",
       "         86: 1,\n",
       "         97: 1,\n",
       "         99: 1,\n",
       "         100: 1,\n",
       "         103: 1})"
      ]
     },
     "execution_count": 11,
     "metadata": {},
     "output_type": "execute_result"
    }
   ],
   "source": [
    "field_name = Fill_Rate_Test(data,'name')\n",
    "field_name.len_counter()"
   ]
  },
  {
   "cell_type": "code",
   "execution_count": 12,
   "metadata": {
    "collapsed": false
   },
   "outputs": [
    {
     "data": {
      "text/plain": [
       "Counter({' ': 15, '0': 16, 'A': 1, 'Q': 1})"
      ]
     },
     "execution_count": 12,
     "metadata": {},
     "output_type": "execute_result"
    }
   ],
   "source": [
    "collections.Counter([d['name'] for d in data if isinstance(d['name'],str) and len(d['name'])==1])"
   ]
  },
  {
   "cell_type": "code",
   "execution_count": 13,
   "metadata": {
    "collapsed": true
   },
   "outputs": [],
   "source": [
    "name_freq = collections.Counter([d['name'] for d in data if isinstance(d['name'],str)])"
   ]
  },
  {
   "cell_type": "code",
   "execution_count": 14,
   "metadata": {
    "collapsed": false
   },
   "outputs": [
    {
     "name": "stdout",
     "output_type": "stream",
     "text": [
      "890722\n",
      "753\n"
     ]
    }
   ],
   "source": [
    "# Should we include \"0\" as valid data for name? is having count 16 common? \n",
    "repeat_names_over_16 = {key:val for (key,val) in name_freq.items() if val>=16}\n",
    "print(len(name_freq))\n",
    "print(len(repeat_names_over_16))"
   ]
  },
  {
   "cell_type": "markdown",
   "metadata": {},
   "source": [
    "Out of 890722 unique names, 753 business names appear more than 15 times. This is only 0.08%. Also given the fact that many of the fields had \"0\" values as irrelevant, we should be pretty confident in identifying \"0\" as \"bad\" data for name as well."
   ]
  },
  {
   "cell_type": "code",
   "execution_count": null,
   "metadata": {
    "collapsed": true
   },
   "outputs": [],
   "source": []
  },
  {
   "cell_type": "markdown",
   "metadata": {},
   "source": [
    "** Field 4: Phone **  \n",
    "- length<=4 is bad (this includes \"none\" and \"null\")"
   ]
  },
  {
   "cell_type": "code",
   "execution_count": 15,
   "metadata": {
    "collapsed": false
   },
   "outputs": [
    {
     "data": {
      "text/plain": [
       "Counter({0: 12,\n",
       "         1: 28,\n",
       "         4: 33,\n",
       "         10: 581380,\n",
       "         12: 1,\n",
       "         13: 2,\n",
       "         14: 9412,\n",
       "         15: 2,\n",
       "         16: 1})"
      ]
     },
     "execution_count": 15,
     "metadata": {},
     "output_type": "execute_result"
    }
   ],
   "source": [
    "field_phone = Fill_Rate_Test(data, 'phone')\n",
    "field_phone.len_counter()"
   ]
  },
  {
   "cell_type": "code",
   "execution_count": 16,
   "metadata": {
    "collapsed": false
   },
   "outputs": [
    {
     "data": {
      "text/plain": [
       "Counter({'none': 22, 'null': 11})"
      ]
     },
     "execution_count": 16,
     "metadata": {},
     "output_type": "execute_result"
    }
   ],
   "source": [
    "collections.Counter([d['phone'] for d in data if isinstance(d['phone'],str) and len(d['phone'])==4])"
   ]
  },
  {
   "cell_type": "code",
   "execution_count": null,
   "metadata": {
    "collapsed": true
   },
   "outputs": [],
   "source": []
  },
  {
   "cell_type": "markdown",
   "metadata": {},
   "source": [
    "** Field 5: state **  \n",
    "- length<=1 bad\n",
    "- exclude \"none\" and \"null\" (all of those with length=4)"
   ]
  },
  {
   "cell_type": "code",
   "execution_count": 17,
   "metadata": {
    "collapsed": false
   },
   "outputs": [
    {
     "data": {
      "text/plain": [
       "Counter({0: 14, 1: 36, 2: 999896, 4: 29})"
      ]
     },
     "execution_count": 17,
     "metadata": {},
     "output_type": "execute_result"
    }
   ],
   "source": [
    "field_state = Fill_Rate_Test(data, 'state')\n",
    "field_state.len_counter()"
   ]
  },
  {
   "cell_type": "code",
   "execution_count": 18,
   "metadata": {
    "collapsed": false
   },
   "outputs": [
    {
     "data": {
      "text/plain": [
       "Counter({' ': 15, '0': 21})"
      ]
     },
     "execution_count": 18,
     "metadata": {},
     "output_type": "execute_result"
    }
   ],
   "source": [
    "collections.Counter([d['state'] for d in data if isinstance(d['state'],str) and len(d['state'])==1])"
   ]
  },
  {
   "cell_type": "code",
   "execution_count": null,
   "metadata": {
    "collapsed": true
   },
   "outputs": [],
   "source": []
  },
  {
   "cell_type": "markdown",
   "metadata": {},
   "source": [
    "** Field 6: zip **\n",
    "- length<=1 bad\n",
    "- exclude \"none\", \"null\""
   ]
  },
  {
   "cell_type": "code",
   "execution_count": 19,
   "metadata": {
    "collapsed": false
   },
   "outputs": [
    {
     "data": {
      "text/plain": [
       "Counter({0: 19, 1: 28, 4: 46553, 5: 953374})"
      ]
     },
     "execution_count": 19,
     "metadata": {},
     "output_type": "execute_result"
    }
   ],
   "source": [
    "field_zip = Fill_Rate_Test(data, 'zip')\n",
    "field_zip.len_counter()"
   ]
  },
  {
   "cell_type": "code",
   "execution_count": 20,
   "metadata": {
    "collapsed": false
   },
   "outputs": [
    {
     "data": {
      "text/plain": [
       "Counter({' ': 12, '0': 16})"
      ]
     },
     "execution_count": 20,
     "metadata": {},
     "output_type": "execute_result"
    }
   ],
   "source": [
    "collections.Counter([d['zip'] for d in data if isinstance(d['zip'],str) and len(d['zip'])==1])"
   ]
  },
  {
   "cell_type": "code",
   "execution_count": null,
   "metadata": {
    "collapsed": true
   },
   "outputs": [],
   "source": []
  },
  {
   "cell_type": "markdown",
   "metadata": {},
   "source": [
    "** Field 7: category_code ** \n",
    "- only length=8 is valid"
   ]
  },
  {
   "cell_type": "code",
   "execution_count": 21,
   "metadata": {
    "collapsed": false
   },
   "outputs": [
    {
     "data": {
      "text/plain": [
       "Counter({0: 11, 1: 29, 4: 23, 8: 999910})"
      ]
     },
     "execution_count": 21,
     "metadata": {},
     "output_type": "execute_result"
    }
   ],
   "source": [
    "field_category = Fill_Rate_Test(data, 'category_code')\n",
    "field_category.len_counter()"
   ]
  },
  {
   "cell_type": "code",
   "execution_count": 22,
   "metadata": {
    "collapsed": false
   },
   "outputs": [
    {
     "data": {
      "text/plain": [
       "Counter({'none': 9, 'null': 14})"
      ]
     },
     "execution_count": 22,
     "metadata": {},
     "output_type": "execute_result"
    }
   ],
   "source": [
    "collections.Counter([d['category_code'] for d in data if isinstance(d['category_code'],str) and len(d['category_code'])==4])"
   ]
  },
  {
   "cell_type": "code",
   "execution_count": null,
   "metadata": {
    "collapsed": true
   },
   "outputs": [],
   "source": []
  },
  {
   "cell_type": "markdown",
   "metadata": {},
   "source": [
    "** Field 8: headcount **  \n",
    "- exclude '',' ','0','none','null' bad"
   ]
  },
  {
   "cell_type": "code",
   "execution_count": 23,
   "metadata": {
    "collapsed": false
   },
   "outputs": [
    {
     "data": {
      "text/plain": [
       "Counter({'': 8,\n",
       "         ' ': 17,\n",
       "         '0': 15,\n",
       "         '1 to 4': 358207,\n",
       "         '10 to 19': 151412,\n",
       "         '100 to 249': 36475,\n",
       "         '20 to 49': 121264,\n",
       "         '250 to 499': 11138,\n",
       "         '5 to 9': 212401,\n",
       "         '50 to 99': 60526,\n",
       "         '500 to 999': 5250,\n",
       "         'Over 1,000': 5600,\n",
       "         'none': 17,\n",
       "         'null': 12})"
      ]
     },
     "execution_count": 23,
     "metadata": {},
     "output_type": "execute_result"
    }
   ],
   "source": [
    "field_headcount = Fill_Rate_Test(data, 'headcount')\n",
    "field_headcount.cat_counter()"
   ]
  },
  {
   "cell_type": "code",
   "execution_count": null,
   "metadata": {
    "collapsed": true
   },
   "outputs": [],
   "source": []
  },
  {
   "cell_type": "markdown",
   "metadata": {},
   "source": [
    "** Field 9: revenue **  \n",
    "- exclude '', ' ', '0', 'none', 'null'. \"0\" may make sense in this case, but seems fishy that \"0\" field does not have a dollar sign."
   ]
  },
  {
   "cell_type": "code",
   "execution_count": 24,
   "metadata": {
    "collapsed": false
   },
   "outputs": [
    {
     "data": {
      "text/plain": [
       "Counter({'': 11,\n",
       "         ' ': 16,\n",
       "         '$1 to 2.5 Million': 169540,\n",
       "         '$10 to 20 Million': 48454,\n",
       "         '$100 to 500 Million': 10130,\n",
       "         '$2.5 to 5 Million': 99245,\n",
       "         '$20 to 50 Million': 32797,\n",
       "         '$5 to 10 Million': 83924,\n",
       "         '$50 to 100 Million': 12765,\n",
       "         '$500,000 to $1 Million': 153163,\n",
       "         '0': 15,\n",
       "         'Less Than $500,000': 329635,\n",
       "         'Over $1 Billion': 1769,\n",
       "         'Over $500 Million': 1579,\n",
       "         'none': 15,\n",
       "         'null': 19})"
      ]
     },
     "execution_count": 24,
     "metadata": {},
     "output_type": "execute_result"
    }
   ],
   "source": [
    "field_revenue = Fill_Rate_Test(data, 'revenue')\n",
    "field_revenue.cat_counter()"
   ]
  },
  {
   "cell_type": "code",
   "execution_count": null,
   "metadata": {
    "collapsed": true
   },
   "outputs": [],
   "source": []
  },
  {
   "cell_type": "markdown",
   "metadata": {},
   "source": [
    "** Field 10: time_in_business **  \n",
    "- exclude '', ' ', '0','none', 'null'"
   ]
  },
  {
   "cell_type": "code",
   "execution_count": 25,
   "metadata": {
    "collapsed": false
   },
   "outputs": [
    {
     "data": {
      "text/plain": [
       "Counter({'': 11,\n",
       "         ' ': 13,\n",
       "         '0': 15,\n",
       "         '1-2 years': 12756,\n",
       "         '10+ years': 758867,\n",
       "         '3-5 years': 38280,\n",
       "         '6-10 years': 106144,\n",
       "         'Less than a year': 1,\n",
       "         'none': 14,\n",
       "         'null': 17})"
      ]
     },
     "execution_count": 25,
     "metadata": {},
     "output_type": "execute_result"
    }
   ],
   "source": [
    "field_time = Fill_Rate_Test(data, 'time_in_business')\n",
    "field_time.cat_counter()"
   ]
  },
  {
   "cell_type": "code",
   "execution_count": null,
   "metadata": {
    "collapsed": true
   },
   "outputs": [],
   "source": []
  },
  {
   "cell_type": "code",
   "execution_count": 26,
   "metadata": {
    "collapsed": true
   },
   "outputs": [],
   "source": [
    "### Summary of findings\n",
    "key_list = ['address','city','name',\n",
    "            'phone','state','zip',\n",
    "            'category_code','headcount','revenue','time_in_business']\n",
    "# corresponding to len_criteria in relevant_data\n",
    "len_list = [4,0,0,\n",
    "            4,1,1,\n",
    "            4,0,0,0]\n",
    "# corresponds to cat_criteria in relevant_data\n",
    "cat_list = [['none','null'],[' ','0','none','null'],[' ','0','none','null'],\n",
    "            ['none','null'],['none','null'],['none','null'],\n",
    "            ['none','null'],[' ','0','none','null'],[' ','0','none','null'],[' ','0','none','null']]"
   ]
  },
  {
   "cell_type": "code",
   "execution_count": null,
   "metadata": {
    "collapsed": true
   },
   "outputs": [],
   "source": []
  },
  {
   "cell_type": "markdown",
   "metadata": {},
   "source": [
    "# Part III: Cardinality"
   ]
  },
  {
   "cell_type": "code",
   "execution_count": 27,
   "metadata": {
    "collapsed": true
   },
   "outputs": [],
   "source": [
    "# We want to know if a field is unique. among \"true value fill\" data, compare length and length of set\n",
    "# If the number of unique values in the set is less than the numberof 'true value fill' data, then the field is not unique"
   ]
  },
  {
   "cell_type": "code",
   "execution_count": 28,
   "metadata": {
    "collapsed": true
   },
   "outputs": [],
   "source": [
    "def cardinality(data, key, len_criteria, cat_criteria):\n",
    "    return len(set(relevant_data(data,key,len_criteria,cat_criteria)))\n"
   ]
  },
  {
   "cell_type": "code",
   "execution_count": null,
   "metadata": {
    "collapsed": true
   },
   "outputs": [],
   "source": []
  },
  {
   "cell_type": "markdown",
   "metadata": {},
   "source": [
    "## Combine Parts I-III"
   ]
  },
  {
   "cell_type": "code",
   "execution_count": 29,
   "metadata": {
    "collapsed": false
   },
   "outputs": [
    {
     "name": "stdout",
     "output_type": "stream",
     "text": [
      "0 address\n",
      "Fill count: 999973\n",
      "True value fill count: 999897\n",
      "Cardinality: 892113\n",
      "Not unique\n",
      "\n",
      "1 city\n",
      "Fill count: 999969\n",
      "True value fill count: 999895\n",
      "Cardinality: 13714\n",
      "Not unique\n",
      "\n",
      "2 name\n",
      "Fill count: 999975\n",
      "True value fill count: 999910\n",
      "Cardinality: 890717\n",
      "Not unique\n",
      "\n",
      "3 phone\n",
      "Fill count: 590871\n",
      "True value fill count: 590798\n",
      "Cardinality: 575148\n",
      "Not unique\n",
      "\n",
      "4 state\n",
      "Fill count: 999975\n",
      "True value fill count: 999896\n",
      "Cardinality: 53\n",
      "Not unique\n",
      "\n",
      "5 zip\n",
      "Fill count: 999974\n",
      "True value fill count: 999890\n",
      "Cardinality: 26391\n",
      "Not unique\n",
      "\n",
      "6 category_code\n",
      "Fill count: 999973\n",
      "True value fill count: 999910\n",
      "Cardinality: 1178\n",
      "Not unique\n",
      "\n",
      "7 headcount\n",
      "Fill count: 962342\n",
      "True value fill count: 962273\n",
      "Cardinality: 9\n",
      "Not unique\n",
      "\n",
      "8 revenue\n",
      "Fill count: 943077\n",
      "True value fill count: 943001\n",
      "Cardinality: 11\n",
      "Not unique\n",
      "\n",
      "9 time_in_business\n",
      "Fill count: 916118\n",
      "True value fill count: 916048\n",
      "Cardinality: 5\n",
      "Not unique\n",
      "\n"
     ]
    }
   ],
   "source": [
    "# Combine all:\n",
    "for index, value in enumerate(key_list):\n",
    "    print(index, value)\n",
    "    print('Fill count:', fill_rate(data, value))\n",
    "    print('True value fill count:', len(relevant_data(data,value,len_list[index],cat_list[index])))\n",
    "    print('Cardinality:', cardinality(data, value,len_list[index],cat_list[index]))\n",
    "    if len(relevant_data(data,value,len_list[index],cat_list[index]))>cardinality(data, value,len_list[index],cat_list[index]):\n",
    "        print(\"Not unique\")\n",
    "    else:\n",
    "        print(\"Unique\")\n",
    "    print(\"\")\n",
    "    "
   ]
  },
  {
   "cell_type": "code",
   "execution_count": null,
   "metadata": {
    "collapsed": true
   },
   "outputs": [],
   "source": []
  },
  {
   "cell_type": "markdown",
   "metadata": {},
   "source": [
    "# Part IV: Anything interesting?"
   ]
  },
  {
   "cell_type": "code",
   "execution_count": 30,
   "metadata": {
    "collapsed": false
   },
   "outputs": [],
   "source": [
    "# Looks like none of the fields are actually unique. Let's look at combinations\n",
    "# Specifically, let's see what relationship address, name, phone have with all other fields.\n",
    "# Remaining fields are expected to have many to one/many relationship.\n",
    "\n",
    "# Compares the total number of key1-key2 pairs and set of key1-key2 pairs. Returns False if key1-key2 pair is unique\n",
    "def comb_relation(data, key1, key2, len1, cat1, len2, cat2):\n",
    "    out_list = [(i[key1],i[key2]) for i in data if isinstance(i[key1],str) and isinstance(i[key2],str) and\n",
    "                len(i[key1])>len1 and i[key1] not in cat1 and\n",
    "                len(i[key2])>len2 and i[key2] not in cat2]\n",
    "    return len(out_list) > len(set(out_list)) "
   ]
  },
  {
   "cell_type": "code",
   "execution_count": null,
   "metadata": {
    "collapsed": true
   },
   "outputs": [],
   "source": []
  },
  {
   "cell_type": "code",
   "execution_count": 31,
   "metadata": {
    "collapsed": false
   },
   "outputs": [
    {
     "name": "stdout",
     "output_type": "stream",
     "text": [
      "Pair relationship with address\n",
      "city : True\n",
      "name : False\n",
      "phone : False\n",
      "state : True\n",
      "zip : True\n",
      "category_code : True\n",
      "headcount : True\n",
      "revenue : True\n",
      "time_in_business : True\n",
      "\n",
      "Pair relationship with name\n",
      "address : False\n",
      "city : True\n",
      "phone : False\n",
      "state : True\n",
      "zip : True\n",
      "category_code : True\n",
      "headcount : True\n",
      "revenue : True\n",
      "time_in_business : True\n",
      "\n",
      "Pair relationship with phone\n",
      "address : False\n",
      "city : True\n",
      "name : False\n",
      "state : True\n",
      "zip : True\n",
      "category_code : True\n",
      "headcount : True\n",
      "revenue : True\n",
      "time_in_business : True\n",
      "\n"
     ]
    }
   ],
   "source": [
    "for index,value in enumerate(key_list):\n",
    "    if value in ['address','name','phone']:\n",
    "        print('Pair relationship with',value)\n",
    "        for index2,value2 in enumerate(key_list):\n",
    "            if value2!=value:\n",
    "                print(value2,':',comb_relation(data,value,value2,len1=len_list[index],cat1=cat_list[index],len2=len_list[index2],cat2=cat_list[index2]))\n",
    "        print(\"\")"
   ]
  },
  {
   "cell_type": "code",
   "execution_count": null,
   "metadata": {
    "collapsed": true
   },
   "outputs": [],
   "source": []
  },
  {
   "cell_type": "code",
   "execution_count": 32,
   "metadata": {
    "collapsed": true
   },
   "outputs": [],
   "source": [
    "# Do businesses with missing field tend to have multiple missing fields?"
   ]
  },
  {
   "cell_type": "code",
   "execution_count": 33,
   "metadata": {
    "collapsed": true
   },
   "outputs": [],
   "source": [
    "n_miss_list = []\n",
    "for i in data:\n",
    "    n_miss = 0\n",
    "    for index,value in enumerate(key_list):\n",
    "        if not(isinstance(i[value],str)) or len(i[value])<=len_list[index] or i[value] in cat_list[index]:\n",
    "            n_miss+=1\n",
    "    n_miss_list.append(n_miss)\n"
   ]
  },
  {
   "cell_type": "code",
   "execution_count": 34,
   "metadata": {
    "collapsed": false
   },
   "outputs": [
    {
     "data": {
      "text/plain": [
       "Counter({0: 490518, 1: 434790, 2: 70468, 3: 4140, 4: 84})"
      ]
     },
     "execution_count": 34,
     "metadata": {},
     "output_type": "execute_result"
    }
   ],
   "source": [
    "collections.Counter(n_miss_list)"
   ]
  },
  {
   "cell_type": "code",
   "execution_count": 35,
   "metadata": {
    "collapsed": false
   },
   "outputs": [],
   "source": [
    "#import matplotlib.pyplot as plt\n",
    "from seaborn import plt\n",
    "import numpy as np\n",
    "%matplotlib inline"
   ]
  },
  {
   "cell_type": "code",
   "execution_count": 36,
   "metadata": {
    "collapsed": false
   },
   "outputs": [
    {
     "data": {
      "image/png": "[encoded data removed]",
      "text/plain": [
       "<matplotlib.figure.Figure at 0x122662828>"
      ]
     },
     "metadata": {},
     "output_type": "display_data"
    }
   ],
   "source": [
    "plt.hist(n_miss_list, bins=np.arange(6)-0.4, width=0.8);\n",
    "plt.xlabel('Number of Irrelevant Fields');\n",
    "plt.ylabel('Number of Businesses');\n",
    "plt.title('Number of Businesses with Irrelevant Fields');\n",
    "plt.xticks(range(5));"
   ]
  }
 ],
 "metadata": {
  "anaconda-cloud": {},
  "kernelspec": {
   "display_name": "Python [conda env:py35]",
   "language": "python",
   "name": "conda-env-py35-py"
  },
  "language_info": {
   "codemirror_mode": {
    "name": "ipython",
    "version": 3
   },
   "file_extension": ".py",
   "mimetype": "text/x-python",
   "name": "python",
   "nbconvert_exporter": "python",
   "pygments_lexer": "ipython3",
   "version": "3.5.2"
  }
 },
 "nbformat": 4,
 "nbformat_minor": 1
}
